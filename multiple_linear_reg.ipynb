{
 "cells": [
  {
   "cell_type": "code",
   "execution_count": 1,
   "id": "3d72f617",
   "metadata": {},
   "outputs": [],
   "source": [
    "\n",
    "import pandas as pd\n",
    "import matplotlib.pyplot as plt\n",
    "from sklearn import linear_model\n",
    "\n",
    "df = pd.read_csv(\"multilinearregression.csv\",sep = \";\")"
   ]
  },
  {
   "cell_type": "code",
   "execution_count": null,
   "id": "6e098d20",
   "metadata": {},
   "outputs": [],
   "source": [
    "df"
   ]
  },
  {
   "cell_type": "code",
   "execution_count": null,
   "id": "ebb21024",
   "metadata": {},
   "outputs": [],
   "source": [
    "df[['alan', 'odasayisi', 'binayasi']]"
   ]
  },
  {
   "cell_type": "code",
   "execution_count": null,
   "id": "63277725",
   "metadata": {},
   "outputs": [],
   "source": [
    "df['fiyat']"
   ]
  },
  {
   "cell_type": "code",
   "execution_count": null,
   "id": "b0f28449",
   "metadata": {},
   "outputs": [],
   "source": [
    "multi_linear_reg_model= linear_model.LinearRegression()"
   ]
  },
  {
   "cell_type": "code",
   "execution_count": null,
   "id": "33e7861a",
   "metadata": {},
   "outputs": [],
   "source": [
    "multi_linear_reg_model.fit(df[['alan', 'odasayisi', 'binayasi']], df['fiyat'])"
   ]
  },
  {
   "cell_type": "code",
   "execution_count": null,
   "id": "cf48d751",
   "metadata": {},
   "outputs": [],
   "source": [
    "multi_linear_reg_model.predict([[160, 4, 3]])"
   ]
  },
  {
   "cell_type": "code",
   "execution_count": null,
   "id": "ede8a839",
   "metadata": {},
   "outputs": [],
   "source": [
    "multi_linear_reg_model.predict([[167, 4, 10]])"
   ]
  },
  {
   "cell_type": "code",
   "execution_count": null,
   "id": "25eea665",
   "metadata": {},
   "outputs": [],
   "source": [
    "a = multi_linear_reg_model.intercept_\n",
    "b1 = multi_linear_reg_model.coef_[0]\n",
    "b2 = multi_linear_reg_model.coef_[1]\n",
    "b3 = multi_linear_reg_model.coef_[2]\n",
    "\n",
    "x1 = 230\n",
    "x2 = 4\n",
    "x3 = 10\n",
    "y = a + b1*x1 + b2*x2 + b3*x3\n",
    "\n",
    "y"
   ]
  },
  {
   "cell_type": "code",
   "execution_count": 2,
   "id": "90086f16",
   "metadata": {},
   "outputs": [],
   "source": [
    "# save and load \n",
    "\n",
    "import pickle "
   ]
  },
  {
   "cell_type": "code",
   "execution_count": null,
   "id": "2be5dc42",
   "metadata": {},
   "outputs": [],
   "source": [
    "model_dosyasi= \"evfiyattahmin_mlr_model.pickle\""
   ]
  },
  {
   "cell_type": "code",
   "execution_count": null,
   "id": "46892f93",
   "metadata": {},
   "outputs": [],
   "source": [
    "pickle.dump(multi_linear_reg_model, open(model_dosyasi, 'wb'))"
   ]
  },
  {
   "cell_type": "code",
   "execution_count": 3,
   "id": "8ffa70ba",
   "metadata": {},
   "outputs": [],
   "source": [
    "\n",
    "\n",
    "# load \n",
    "\n",
    "\n",
    "model= pickle.load(open(\"evfiyattahmin_mlr_model.pickle\", 'rb'))\n"
   ]
  },
  {
   "cell_type": "code",
   "execution_count": 4,
   "id": "d262cac7",
   "metadata": {},
   "outputs": [
    {
     "name": "stderr",
     "output_type": "stream",
     "text": [
      "C:\\ProgramData\\Anaconda3\\lib\\site-packages\\sklearn\\base.py:450: UserWarning: X does not have valid feature names, but LinearRegression was fitted with feature names\n",
      "  warnings.warn(\n"
     ]
    },
    {
     "data": {
      "text/plain": [
       "array([477160.17712846])"
      ]
     },
     "execution_count": 4,
     "metadata": {},
     "output_type": "execute_result"
    }
   ],
   "source": [
    "model.predict([[160, 4, 3]])"
   ]
  },
  {
   "cell_type": "code",
   "execution_count": null,
   "id": "90cde389",
   "metadata": {},
   "outputs": [],
   "source": []
  }
 ],
 "metadata": {
  "kernelspec": {
   "display_name": "Python 3 (ipykernel)",
   "language": "python",
   "name": "python3"
  },
  "language_info": {
   "codemirror_mode": {
    "name": "ipython",
    "version": 3
   },
   "file_extension": ".py",
   "mimetype": "text/x-python",
   "name": "python",
   "nbconvert_exporter": "python",
   "pygments_lexer": "ipython3",
   "version": "3.9.12"
  }
 },
 "nbformat": 4,
 "nbformat_minor": 5
}
